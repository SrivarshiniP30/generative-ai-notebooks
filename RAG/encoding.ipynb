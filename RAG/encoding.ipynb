{
 "cells": [
  {
   "cell_type": "code",
   "execution_count": 4,
   "id": "575e0e33",
   "metadata": {},
   "outputs": [
    {
     "name": "stderr",
     "output_type": "stream",
     "text": [
      "c:\\GenAI\\genenv\\Lib\\site-packages\\tqdm\\auto.py:21: TqdmWarning: IProgress not found. Please update jupyter and ipywidgets. See https://ipywidgets.readthedocs.io/en/stable/user_install.html\n",
      "  from .autonotebook import tqdm as notebook_tqdm\n",
      "None of PyTorch, TensorFlow >= 2.0, or Flax have been found. Models won't be available and only tokenizers, configuration and file/data utilities can be used.\n"
     ]
    }
   ],
   "source": [
    "from transformers import AutoTokenizer"
   ]
  },
  {
   "cell_type": "code",
   "execution_count": 22,
   "id": "0a6d7b3e",
   "metadata": {},
   "outputs": [],
   "source": [
    "tokenizer = AutoTokenizer.from_pretrained(\"bert-base-uncased\")\n",
    "sentence = \"i went to school\"\n",
    "tokens = tokenizer.tokenize(sentence)\n",
    "token_ids = tokenizer.convert_tokens_to_ids(tokens)"
   ]
  },
  {
   "cell_type": "code",
   "execution_count": 23,
   "id": "cf9e11dd",
   "metadata": {},
   "outputs": [
    {
     "name": "stdout",
     "output_type": "stream",
     "text": [
      "Tokens: ['i', 'went', 'to', 'school']\n",
      "Token IDs: [1045, 2253, 2000, 2082]\n"
     ]
    }
   ],
   "source": [
    "print(\"Tokens:\",tokens)\n",
    "print(\"Token IDs:\",token_ids)"
   ]
  },
  {
   "cell_type": "markdown",
   "id": "a9b5b663",
   "metadata": {},
   "source": [
    "encoding 2: chatgpt"
   ]
  },
  {
   "cell_type": "code",
   "execution_count": 11,
   "id": "cbcc01c3",
   "metadata": {},
   "outputs": [],
   "source": [
    "tokenizer = AutoTokenizer.from_pretrained(\"gpt2\")\n",
    "sentence = \"i went to school\"\n",
    "tokens = tokenizer.tokenize(sentence)\n",
    "token_ids = tokenizer.convert_tokens_to_ids(tokens)"
   ]
  },
  {
   "cell_type": "code",
   "execution_count": 12,
   "id": "cfd74bae",
   "metadata": {},
   "outputs": [
    {
     "name": "stdout",
     "output_type": "stream",
     "text": [
      "Toekns: ['i', 'Ġwent', 'Ġto', 'Ġschool']\n",
      "Token IDs: [72, 1816, 284, 1524]\n"
     ]
    }
   ],
   "source": [
    "print(\"Toekns:\",tokens)\n",
    "print(\"Token IDs:\",token_ids)"
   ]
  },
  {
   "cell_type": "code",
   "execution_count": 19,
   "id": "3d648658",
   "metadata": {},
   "outputs": [
    {
     "name": "stdout",
     "output_type": "stream",
     "text": [
      "token ids: [72, 4024, 311, 2978]\n",
      "Decoded: i went to school\n"
     ]
    }
   ],
   "source": [
    "import tiktoken\n",
    "\n",
    "encoding4 = tiktoken.encoding_for_model(\"gpt-4\")\n",
    "sentence = \"i went to school\"\n",
    "token_ids = encoding4.encode(sentence)\n",
    "\n",
    "print(\"token ids:\",token_ids)\n",
    "print(\"Decoded:\",encoding4.decode(token_ids))"
   ]
  },
  {
   "cell_type": "code",
   "execution_count": 21,
   "id": "3339decf",
   "metadata": {},
   "outputs": [
    {
     "name": "stdout",
     "output_type": "stream",
     "text": [
      "token ids: [72, 1816, 284, 1524]\n",
      "Decoded: i went to school\n"
     ]
    }
   ],
   "source": [
    "\n",
    "encoding3 = tiktoken.get_encoding(\"p50k_base\")\n",
    "sentence = \"i went to school\"\n",
    "token_ids = encoding3.encode(sentence)\n",
    "\n",
    "print(\"token ids:\",token_ids)\n",
    "print(\"Decoded:\",encoding3.decode(token_ids))"
   ]
  },
  {
   "cell_type": "markdown",
   "id": "b20527f7",
   "metadata": {},
   "source": [
    "encoding and tokenization is the same"
   ]
  },
  {
   "cell_type": "markdown",
   "id": "8cb05c73",
   "metadata": {},
   "source": []
  }
 ],
 "metadata": {
  "kernelspec": {
   "display_name": "genenv",
   "language": "python",
   "name": "python3"
  },
  "language_info": {
   "codemirror_mode": {
    "name": "ipython",
    "version": 3
   },
   "file_extension": ".py",
   "mimetype": "text/x-python",
   "name": "python",
   "nbconvert_exporter": "python",
   "pygments_lexer": "ipython3",
   "version": "3.12.6"
  }
 },
 "nbformat": 4,
 "nbformat_minor": 5
}
