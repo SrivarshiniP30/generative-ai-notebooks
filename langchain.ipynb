{
 "cells": [
  {
   "cell_type": "code",
   "execution_count": 4,
   "id": "c652b93f",
   "metadata": {},
   "outputs": [],
   "source": [
    "from openai import OpenAI\n",
    "import langchain\n",
    "from langchain_core.prompts import PromptTemplate"
   ]
  },
  {
   "cell_type": "code",
   "execution_count": 10,
   "id": "8e09abc3",
   "metadata": {},
   "outputs": [
    {
     "name": "stderr",
     "output_type": "stream",
     "text": [
      "C:\\Users\\sriva\\AppData\\Local\\Temp\\ipykernel_117272\\1940455124.py:4: LangChainDeprecationWarning: The class `Ollama` was deprecated in LangChain 0.3.1 and will be removed in 1.0.0. An updated version of the class exists in the :class:`~langchain-ollama package and should be used instead. To use it run `pip install -U :class:`~langchain-ollama` and import as `from :class:`~langchain_ollama import OllamaLLM``.\n",
      "  model = Ollama(model=\"llama3.2\")\n"
     ]
    }
   ],
   "source": [
    "from langchain_community.llms import Ollama\n",
    "\n",
    "#from langchain_ollama.llms import OllamaLLM\n",
    "model = Ollama(model=\"llama3.2\")"
   ]
  },
  {
   "cell_type": "code",
   "execution_count": 11,
   "id": "ad253d08",
   "metadata": {},
   "outputs": [],
   "source": [
    "mytemplate = \"I want you to act as a financial advisor for people in an easy way. explain the basics of {financial_question}\"\n",
    "\n",
    "prompt = PromptTemplate(\n",
    "    input_variables = [\"financial_question\"],\n",
    "    template = mytemplate\n",
    ")"
   ]
  },
  {
   "cell_type": "code",
   "execution_count": 12,
   "id": "9fd19678",
   "metadata": {},
   "outputs": [
    {
     "data": {
      "text/plain": [
       "\"As your financial advisor, I'll break down the basics of income tax in the USA in simple terms.\\n\\n**What is Income Tax?**\\n\\nIncome tax is a type of tax levied by the government on the money you earn from your job, investments, or other sources. The US government uses this tax revenue to fund its activities and provide public goods and services.\\n\\n**Types of Income Tax**\\n\\nThere are two main types of income tax in the USA:\\n\\n1. **Federal Income Tax**: This is the tax levied by the federal government on your income.\\n2. **State and Local Income Tax**: Some states and local governments also impose their own income taxes, which can range from 0% to over 13%.\\n\\n**How is Income Tax Calculated?**\\n\\nIncome tax calculation involves multiplying your taxable income by a specific tax rate or percentage. The tax rates vary depending on your filing status (single, married, head of household, etc.) and the amount of income you earn.\\n\\nHere's a simple example:\\n\\nLet's say John earns $50,000 per year and files as single.\\nHis federal income tax would be calculated using the 2023 tax tables. For simplicity, let's assume he falls into the 24% tax bracket (which is not likely for most people).\\n\\nFederal Income Tax = ($50,000 x 0.24) = $12,000\\n\\n**Tax Brackets and Rates**\\n\\nThe US has a progressive tax system, which means that higher income earners pay a higher tax rate. The tax rates are divided into brackets, and the amount of tax you pay depends on how much of your income falls within each bracket.\\n\\nHere's a simplified example of the 2023 federal income tax brackets:\\n\\n| Filing Status | Tax Brackets |\\n| --- | --- |\\n| Single | $0 - $10,275 (0%); $10,276 - $41,775 (12%); ... |\\n| Married Filing Jointly | $0 - $20,550 (0%); $20,551 - $83,550 (12%); ... |\\n\\n**Other Tax Deductions and Credits**\\n\\nThere are several tax deductions and credits available that can reduce your taxable income. Some examples include:\\n\\n1. **Standard Deduction**: A fixed amount you can subtract from your income.\\n2. **Itemized Deductions**: Expenses like mortgage interest, charitable donations, and medical expenses that can be deducted from your income.\\n3. **Earned Income Tax Credit (EITC)**: A credit for low-income working individuals or families.\\n4. **Child Tax Credit**: A credit for parents with qualifying children.\\n\\n**Tax Filing Status**\\n\\nYour tax filing status determines which tax brackets you'll fall into and what deductions and credits you're eligible for. The main filing statuses are:\\n\\n1. **Single**: Unmarried individuals.\\n2. **Married Filing Jointly**: Married couples who file taxes together.\\n3. **Married Filing Separately**: Married couples who file taxes separately.\\n4. **Head of Household**: Unmarried individuals with dependents.\\n\\n**How to File Your Taxes**\\n\\nYou can file your taxes using:\\n\\n1. **IRS Free File**: A free tax filing service for eligible taxpayers.\\n2. **Tax Software**: Programs like TurboTax, H&R Block, or TaxAct that guide you through the tax filing process.\\n3. **Paper Return**: You'll need to fill out forms and mail them to the IRS.\\n\\n**Additional Tips**\\n\\n1. **Consult a Tax Professional**: If you're unsure about any aspect of your taxes, consider hiring a tax professional or accountant.\\n2. **Take Advantage of Tax Credits and Deductions**: Research available credits and deductions that can save you money on your taxes.\\n3. **Stay Organized**: Keep track of receipts, W-2s, and other income-related documents to make tax time easier.\\n\\nThat's a basic overview of income tax in the USA! Do you have any specific questions or concerns?\""
      ]
     },
     "execution_count": 12,
     "metadata": {},
     "output_type": "execute_result"
    }
   ],
   "source": [
    "mychain = prompt | model\n",
    "\n",
    "mychain.invoke(\"income tax in usa\")"
   ]
  },
  {
   "cell_type": "code",
   "execution_count": 13,
   "id": "d17b1f01",
   "metadata": {},
   "outputs": [
    {
     "data": {
      "text/plain": [
       "\"As a financial advisor, I'm happy to break down the basics of 529 funds in simple terms.\\n\\n**What is a 529 plan?**\\n\\nA 529 plan is a type of savings account designed to help families save for higher education expenses, such as college tuition, fees, and other costs. It's named after Section 529 of the Internal Revenue Code, which created these plans.\\n\\n**How does it work?**\\n\\nHere's a simplified overview:\\n\\n1. **You open a 529 plan account**: Choose from a variety of investment options, and select your beneficiary (the student you're saving for).\\n2. **Contribute funds**: You deposit money into the account using after-tax dollars.\\n3. **Investments grow tax-free**: The investments in the account grow tax-free, meaning you won't pay income taxes on the gains.\\n4. **Withdrawals are tax-free**: If you withdraw the funds to pay for qualified education expenses (like tuition, fees, books, or room and board), the withdrawals are also tax-free.\\n\\n**Key benefits:**\\n\\n1. **Tax advantages**: Earnings grow tax-free, reducing your taxable income.\\n2. **Huge contribution limits**: Many states have high contribution limits, often in excess of $300,000 per beneficiary.\\n3. **Flexibility**: You can use funds for a wide range of education expenses, including K-12 tuition and some vocational training.\\n4. **State tax benefits**: Some states offer state tax deductions or credits for 529 plan contributions.\\n\\n**Some common misconceptions:**\\n\\n1. **It's just for college**: While it's true that 529 plans are designed for higher education, many states now cover K-12 expenses as well.\\n2. **You can use it for anything else**: Unfortunately, withdrawals are subject to income taxes and a 10% penalty if used for non-qualified education expenses.\\n\\n**Things to consider:**\\n\\n1. **Investment options**: Choose from various investment portfolios that align with your risk tolerance and goals.\\n2. **Fees and expenses**: Be mindful of management fees, administrative costs, and other expenses that can eat into your returns.\\n3. **State rules and restrictions**: Some states have specific rules or restrictions on 529 plan withdrawals.\\n\\nThat's a basic overview of 529 plans! If you have any questions or want to discuss further, feel free to ask.\""
      ]
     },
     "execution_count": 13,
     "metadata": {},
     "output_type": "execute_result"
    }
   ],
   "source": [
    "mychain.invoke(\"529 fund\")"
   ]
  }
 ],
 "metadata": {
  "kernelspec": {
   "display_name": "genenv",
   "language": "python",
   "name": "python3"
  },
  "language_info": {
   "codemirror_mode": {
    "name": "ipython",
    "version": 3
   },
   "file_extension": ".py",
   "mimetype": "text/x-python",
   "name": "python",
   "nbconvert_exporter": "python",
   "pygments_lexer": "ipython3",
   "version": "3.12.6"
  }
 },
 "nbformat": 4,
 "nbformat_minor": 5
}
