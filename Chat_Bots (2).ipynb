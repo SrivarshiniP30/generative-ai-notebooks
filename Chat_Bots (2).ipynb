{
  "cells": [
    {
      "cell_type": "code",
      "execution_count": 1,
      "id": "52c19bb0",
      "metadata": {
        "id": "52c19bb0"
      },
      "outputs": [],
      "source": [
        "import nltk\n",
        "from nltk.chat.util import Chat, reflections\n",
        "#import warnings\n",
        "#warnings.filterwaring(\"ignore\")"
      ]
    },
    {
      "cell_type": "markdown",
      "id": "eac90a5b",
      "metadata": {
        "id": "eac90a5b"
      },
      "source": [
        "\n",
        "## What is ChatBot?\n",
        "- A chatbot, short for chat robot or chatterbot, is a computer program or artificial intelligence (AI) application designed to conduct a conversation with human users through natural language processing. It simulates human conversation and interaction, providing responses to the user's input or questions in a manner that is often indistinguishable from communication with a real person.\n",
        "\n",
        "- Chatbots can be integrated into various platforms, such as websites, messaging apps, social media platforms, and customer service systems.\n",
        "\n",
        "\n",
        "\n",
        "## Real time use and Applications\n",
        "\n",
        "- Customer support: Chatbots can handle frequently asked questions and provide instant assistance to customers, reducing the need for human intervention in basic inquiries.\n",
        "\n",
        "- Information retrieval: They can fetch data from databases, websites, or other sources to provide users with relevant information.\n",
        "\n",
        "- Virtual assistants: Chatbots can help users with tasks like setting reminders, scheduling appointments, and managing to-do lists.\n",
        "\n",
        "- Entertainment: Some chatbots are designed purely for entertainment purposes, engaging users in fun conversations or games.\n",
        "\n",
        "- Language learning: Chatbots can help users practice and improve their language skills through interactive conversations.\n",
        "\n",
        "- E-commerce: Chatbots can assist customers in finding products, making recommendations, and facilitating the purchasing process.\n",
        "\n",
        "- Education: Chatbots can be used in educational settings to support learning, answer questions, and provide explanations.\n",
        "\n",
        "## Chatbots can range from simple rule-based systems that follow predefined scripts to more advanced AI-based models that use machine learning techniques to understand and generate human-like responses. The evolution of natural language processing and machine learning technologies has significantly improved the capabilities and effectiveness of chatbots, making them increasingly prevalent in various industries and applications\n",
        "\n",
        "\n",
        "\n",
        "## Chat – Chat is a class that contains complete logic for processing the text data which the chatbot receives and find useful information out of it\n",
        "\n",
        "## reflections –  is a dictionary containing basic input and corresponding outputs. You can also create your own dictionary with more responses you want."
      ]
    },
    {
      "cell_type": "code",
      "execution_count": null,
      "id": "b25ace01",
      "metadata": {
        "id": "b25ace01"
      },
      "outputs": [],
      "source": [
        "reflections = {\n",
        "  \"hello\"       : \"Hi\",\n",
        "  \"i want\"      : \"you want\",\n",
        "  \"i\"          : \"you\",\n",
        "  \"i'm\"        : \"you are\",\n",
        "  \"i'd\"        : \"you would\",\n",
        "  \"i've\"       : \"you have\",\n",
        "  \"i'll\"       : \"you will\",\n",
        "  \"my\"         : \"your\",\n",
        "  \"you are\"    : \"I am\",\n",
        "  \"you were\"   : \"I was\",\n",
        "  \"you've\"     : \"I have\",\n",
        "  \"you'll\"     : \"I will\",\n",
        "  \"your\"       : \"my\",\n",
        "  \"yours\"      : \"mine\",\n",
        "  \"you\"        : \"me\",\n",
        "  \"me\"         : \"you\"\n",
        "}"
      ]
    },
    {
      "cell_type": "markdown",
      "id": "22185eae",
      "metadata": {
        "id": "22185eae"
      },
      "source": [
        "## Pairs are framed conversations. You can create it according to your applications"
      ]
    },
    {
      "cell_type": "code",
      "execution_count": 2,
      "id": "de84e1ba",
      "metadata": {
        "id": "de84e1ba"
      },
      "outputs": [],
      "source": [
        "pairs = [\n",
        "    [\n",
        "        r\"my name is (.*)\",\n",
        "        [\"Hello %1, How are you today ?\",]\n",
        "    ],\n",
        "    [\n",
        "        r\"hi|hey|hello\",\n",
        "        [\"Hello\", \"Hey there\",]\n",
        "    ],\n",
        "    [\n",
        "        \"what is your name ?\",\n",
        "        [\"I am a bot created by suyashi. my nick name is Ashi!\",]\n",
        "    ],\n",
        "    [\n",
        "        \"how are you ?\",\n",
        "        [\"I'm doing great and what about  You ?\",]\n",
        "    ],\n",
        "    [\n",
        "        \"sorry (.*)\",\n",
        "        [\"Its alright\",\"Its OK, never mind\",]\n",
        "    ],\n",
        "    [\n",
        "        \"I am fine\",\n",
        "        [\"I am also always fine. you need some help?\",]\n",
        "    ],\n",
        "    [\n",
        "        \"i'm (.*) doing good\",\n",
        "        [\"Nice to hear that\",\"How can I help you any issues that i can solve for you?)\",]\n",
        "    ],\n",
        "    [\n",
        "        \"(.*) age?\",\n",
        "        [\"I am always sweet 16?\",]\n",
        "    ],\n",
        "    [\n",
        "        r\"what (.*) want ?\",\n",
        "        [\"talk to me for any help\",]\n",
        "    ],\n",
        "    [\n",
        "        \"(.*) created ?\",\n",
        "        [\"Rahul created me using Python's NLTK library \",\"Now you also know it and create one for yourself ;)\",]\n",
        "    ],\n",
        "    [\n",
        "        \"(.*) you love ?\",\n",
        "        ['Talking Talking Talking and you?',]\n",
        "    ],\n",
        "    [\n",
        "        \"You know Python (.*)?\",\n",
        "        [\"Yes\",\"This is silly Question\",\"I know it so i can talk\",]\n",
        "    ],\n",
        "    [\n",
        "        \"i work in (.*)?\",\n",
        "        [\"i am looking for job do you have any thing for me kidding!!!.\",]\n",
        "    ],\n",
        "    [\n",
        "        \"(.*)raining in (.*)\",\n",
        "        [\"No rain since last week here in %2\",\"Damn its raining too much here in %2\"]\n",
        "    ],\n",
        "    [\n",
        "        r\"ok\",\n",
        "        [\"Any help needed form me \",]\n",
        "    ],\n",
        "    [\n",
        "        \"(.*) (sports|game) ?\",\n",
        "        [\"I'm a very big fan of cricket\",]\n",
        "    ],\n",
        "    [\n",
        "       \"who (.*) (sportsperson) ?\",\n",
        "        [\"Virat\",\"Sachin\",]\n",
        "    ],\n",
        "    [\n",
        "        \"what do you do ?\",\n",
        "        [\"I am virtual Assistant\"]\n",
        "    ],\n",
        "    [\n",
        "        \"(.*) (job) ?\",\n",
        "        [\"software job\"]\n",
        "    ],\n",
        "    [\n",
        "        \"i am looking for online guides and courses to learn data science, can you suggest?\",\n",
        "        [\"Crazy_Tech has many great articles with each step explanation along with code, you can explore\"]\n",
        "    ],\n",
        "    [\n",
        "        \"quit\",\n",
        "        [\"By take care. See you soon :) \",\"It was nice talking to you. See you soon :)\"]\n",
        "    ],\n",
        "]"
      ]
    },
    {
      "cell_type": "code",
      "execution_count": 3,
      "id": "cc35cb82",
      "metadata": {
        "colab": {
          "base_uri": "https://localhost:8080/"
        },
        "id": "cc35cb82",
        "outputId": "d5084513-d9c9-403f-ce34-4e6c5155e6da"
      },
      "outputs": [
        {
          "output_type": "stream",
          "name": "stdout",
          "text": [
            "Hi! I will talk to you i am Rahul\n",
            ">hi\n",
            "Hey there\n",
            ">ok\n",
            "Any help needed form me \n",
            ">which sports\n",
            "I'm a very big fan of cricket\n",
            ">which game\n",
            "I'm a very big fan of cricket\n",
            ">is it raining in hyderabad\n",
            "Damn its raining too much here in hyderabad\n",
            ">what do you do\n",
            "I am virtual Assistant\n",
            ">quit\n",
            "By take care. See you soon :) \n"
          ]
        }
      ],
      "source": [
        "def chatBot():\n",
        "    print(\"Hi! I will talk to you i am Rahul\")\n",
        "    chatBot = Chat(pairs, reflections)\n",
        "    chatBot.converse()\n",
        "#initiate the conversation\n",
        "if __name__ == \"__main__\":\n",
        "    chatBot()"
      ]
    },
    {
      "cell_type": "code",
      "execution_count": null,
      "id": "tVJdEJbqrZVo",
      "metadata": {
        "colab": {
          "base_uri": "https://localhost:8080/"
        },
        "id": "tVJdEJbqrZVo",
        "outputId": "d08fbc38-893a-4c5a-b3ed-b3bdc46610e0"
      },
      "outputs": [
        {
          "name": "stdout",
          "output_type": "stream",
          "text": [
            "Always executed\n",
            "Executed when invoked directly\n"
          ]
        }
      ],
      "source": [
        "# Python program to execute\n",
        "# main directly\n",
        "print (\"Always executed\")\n",
        "\n",
        "if __name__ == \"__main__\":\n",
        "    print (\"Executed when invoked directly\")\n",
        "else:\n",
        "    print (\"Executed when imported\")"
      ]
    },
    {
      "cell_type": "code",
      "execution_count": null,
      "id": "Z7vWNWJxr87w",
      "metadata": {
        "id": "Z7vWNWJxr87w"
      },
      "outputs": [],
      "source": []
    },
    {
      "cell_type": "code",
      "execution_count": 4,
      "id": "XNTdtcb5r9CC",
      "metadata": {
        "colab": {
          "base_uri": "https://localhost:8080/"
        },
        "id": "XNTdtcb5r9CC",
        "outputId": "0b48031d-1c27-4c9b-ae13-9e94f32766aa"
      },
      "outputs": [
        {
          "output_type": "stream",
          "name": "stdout",
          "text": [
            "I am inside function\n"
          ]
        }
      ],
      "source": [
        "# Python program to execute\n",
        "# function directly\n",
        "def my_function():\n",
        "    print (\"I am inside function\")\n",
        "\n",
        "# We can test function by calling it.\n",
        "my_function()"
      ]
    },
    {
      "cell_type": "code",
      "execution_count": 5,
      "id": "wXxert6dsDwi",
      "metadata": {
        "colab": {
          "base_uri": "https://localhost:8080/",
          "height": 402
        },
        "id": "wXxert6dsDwi",
        "outputId": "ba0e58d8-c80f-471e-f282-2b7bbe38a55c"
      },
      "outputs": [
        {
          "output_type": "stream",
          "name": "stdout",
          "text": [
            "I am inside function\n"
          ]
        },
        {
          "output_type": "error",
          "ename": "ModuleNotFoundError",
          "evalue": "No module named 'myscript'",
          "traceback": [
            "\u001b[0;31m---------------------------------------------------------------------------\u001b[0m",
            "\u001b[0;31mModuleNotFoundError\u001b[0m                       Traceback (most recent call last)",
            "\u001b[0;32m<ipython-input-5-fbc4e769faea>\u001b[0m in \u001b[0;36m<cell line: 0>\u001b[0;34m()\u001b[0m\n\u001b[1;32m      4\u001b[0m     \u001b[0mmy_function\u001b[0m\u001b[0;34m(\u001b[0m\u001b[0;34m)\u001b[0m\u001b[0;34m\u001b[0m\u001b[0;34m\u001b[0m\u001b[0m\n\u001b[1;32m      5\u001b[0m \u001b[0;34m\u001b[0m\u001b[0m\n\u001b[0;32m----> 6\u001b[0;31m \u001b[0;32mimport\u001b[0m \u001b[0mmyscript\u001b[0m\u001b[0;34m\u001b[0m\u001b[0;34m\u001b[0m\u001b[0m\n\u001b[0m\u001b[1;32m      7\u001b[0m \u001b[0;34m\u001b[0m\u001b[0m\n\u001b[1;32m      8\u001b[0m \u001b[0mmyscript\u001b[0m\u001b[0;34m.\u001b[0m\u001b[0mmy_function\u001b[0m\u001b[0;34m(\u001b[0m\u001b[0;34m)\u001b[0m\u001b[0;34m\u001b[0m\u001b[0;34m\u001b[0m\u001b[0m\n",
            "\u001b[0;31mModuleNotFoundError\u001b[0m: No module named 'myscript'",
            "",
            "\u001b[0;31m---------------------------------------------------------------------------\u001b[0;32m\nNOTE: If your import is failing due to a missing package, you can\nmanually install dependencies using either !pip or !apt.\n\nTo view examples of installing some common dependencies, click the\n\"Open Examples\" button below.\n\u001b[0;31m---------------------------------------------------------------------------\u001b[0m\n"
          ],
          "errorDetails": {
            "actions": [
              {
                "action": "open_url",
                "actionText": "Open Examples",
                "url": "/notebooks/snippets/importing_libraries.ipynb"
              }
            ]
          }
        }
      ],
      "source": [
        "# Python program to use\n",
        "# main for function call.\n",
        "if __name__ == \"__main__\":\n",
        "    my_function()\n",
        "\n",
        "import myscript\n",
        "\n",
        "myscript.my_function()"
      ]
    },
    {
      "cell_type": "markdown",
      "id": "3f4ebce6",
      "metadata": {
        "id": "3f4ebce6"
      },
      "source": [
        "## Example to create Tech support ChatBot Tk interface and more interactive"
      ]
    },
    {
      "cell_type": "code",
      "execution_count": 6,
      "id": "82e48577",
      "metadata": {
        "id": "82e48577"
      },
      "outputs": [],
      "source": [
        "# Import necessary libraries\n",
        "import tkinter as tk\n",
        "from tkinter import scrolledtext\n",
        "from nltk.chat.util import Chat, reflections\n",
        "import matplotlib.pyplot as plt  # Import matplotlib for plotting\n",
        "import matplotlib"
      ]
    },
    {
      "cell_type": "code",
      "execution_count": 7,
      "id": "547327dc",
      "metadata": {
        "id": "547327dc"
      },
      "outputs": [],
      "source": [
        "# Tech support responses\n",
        "tech_support_responses = [\n",
        "    (r\"Hello\", [\"Hi, How can i support you?\"]),\n",
        "    (r\"my PC not turning ON\", [\"Have you checked if it's plugged in?\"]),\n",
        "    (r\"Yes\", [\"restart and connet to internet\"]),\n",
        "    (r\"No\", [\"Please explain in detail\"]),\n",
        "    (r\"I can't connect to the internet\", [\"Have you tried restarting your router?\"]),\n",
        "    (r\"my PC is running slow\", [\"Try clearing your browser cache.\"]),\n",
        "    (r\"OK\", [\"It worked?\"]),\n",
        "    (r\"how do I reset my password\\?\", [\"You can reset your password by visiting our website and following the instructions.\"]),\n",
        "    (r\".*\", [\"Sorry, I cannot answer this.\"]),\n",
        "    (r\" thank you\", [\"Bye! hope your issue is solved\"]),\n",
        "]"
      ]
    },
    {
      "cell_type": "code",
      "source": [
        "nk"
      ],
      "metadata": {
        "colab": {
          "base_uri": "https://localhost:8080/",
          "height": 141
        },
        "id": "h_fxszgaz7Um",
        "outputId": "af7667ce-2e7e-45af-8de1-c96a493d803a"
      },
      "id": "h_fxszgaz7Um",
      "execution_count": 9,
      "outputs": [
        {
          "output_type": "error",
          "ename": "NameError",
          "evalue": "name 'nk' is not defined",
          "traceback": [
            "\u001b[0;31m---------------------------------------------------------------------------\u001b[0m",
            "\u001b[0;31mNameError\u001b[0m                                 Traceback (most recent call last)",
            "\u001b[0;32m<ipython-input-9-a63fc457c7ab>\u001b[0m in \u001b[0;36m<cell line: 0>\u001b[0;34m()\u001b[0m\n\u001b[0;32m----> 1\u001b[0;31m \u001b[0mnk\u001b[0m\u001b[0;34m\u001b[0m\u001b[0;34m\u001b[0m\u001b[0m\n\u001b[0m",
            "\u001b[0;31mNameError\u001b[0m: name 'nk' is not defined"
          ]
        }
      ]
    },
    {
      "cell_type": "code",
      "execution_count": 8,
      "id": "WxiCHMOpjZsi",
      "metadata": {
        "colab": {
          "base_uri": "https://localhost:8080/",
          "height": 547
        },
        "id": "WxiCHMOpjZsi",
        "outputId": "d9ba33ec-0cd4-4eaa-e6b4-ccbf9168b8d1"
      },
      "outputs": [
        {
          "output_type": "stream",
          "name": "stdout",
          "text": [
            "Hi! I will talk to you i am Rahul\n",
            ">ok\n",
            "It worked?\n",
            ">no\n",
            "Please explain in detail\n",
            ">qwert\n",
            "Sorry, I cannot answer this.\n",
            ">thank you\n",
            "Sorry, I cannot answer this.\n",
            ">thank you\n",
            "Sorry, I cannot answer this.\n",
            ">thankyou\n",
            "Sorry, I cannot answer this.\n"
          ]
        },
        {
          "output_type": "error",
          "ename": "KeyboardInterrupt",
          "evalue": "Interrupted by user",
          "traceback": [
            "\u001b[0;31m---------------------------------------------------------------------------\u001b[0m",
            "\u001b[0;31mKeyboardInterrupt\u001b[0m                         Traceback (most recent call last)",
            "\u001b[0;32m<ipython-input-8-fd06d10f1963>\u001b[0m in \u001b[0;36m<cell line: 0>\u001b[0;34m()\u001b[0m\n\u001b[1;32m      5\u001b[0m \u001b[0;31m#initiate the conversation\u001b[0m\u001b[0;34m\u001b[0m\u001b[0;34m\u001b[0m\u001b[0m\n\u001b[1;32m      6\u001b[0m \u001b[0;32mif\u001b[0m \u001b[0m__name__\u001b[0m \u001b[0;34m==\u001b[0m \u001b[0;34m\"__main__\"\u001b[0m\u001b[0;34m:\u001b[0m\u001b[0;34m\u001b[0m\u001b[0;34m\u001b[0m\u001b[0m\n\u001b[0;32m----> 7\u001b[0;31m     \u001b[0mchatBot\u001b[0m\u001b[0;34m(\u001b[0m\u001b[0;34m)\u001b[0m\u001b[0;34m\u001b[0m\u001b[0;34m\u001b[0m\u001b[0m\n\u001b[0m",
            "\u001b[0;32m<ipython-input-8-fd06d10f1963>\u001b[0m in \u001b[0;36mchatBot\u001b[0;34m()\u001b[0m\n\u001b[1;32m      2\u001b[0m     \u001b[0mprint\u001b[0m\u001b[0;34m(\u001b[0m\u001b[0;34m\"Hi! I will talk to you i am Rahul\"\u001b[0m\u001b[0;34m)\u001b[0m\u001b[0;34m\u001b[0m\u001b[0;34m\u001b[0m\u001b[0m\n\u001b[1;32m      3\u001b[0m     \u001b[0mchatBot\u001b[0m \u001b[0;34m=\u001b[0m \u001b[0mChat\u001b[0m\u001b[0;34m(\u001b[0m\u001b[0mtech_support_responses\u001b[0m\u001b[0;34m,\u001b[0m \u001b[0mreflections\u001b[0m\u001b[0;34m)\u001b[0m\u001b[0;34m\u001b[0m\u001b[0;34m\u001b[0m\u001b[0m\n\u001b[0;32m----> 4\u001b[0;31m     \u001b[0mchatBot\u001b[0m\u001b[0;34m.\u001b[0m\u001b[0mconverse\u001b[0m\u001b[0;34m(\u001b[0m\u001b[0;34m)\u001b[0m\u001b[0;34m\u001b[0m\u001b[0;34m\u001b[0m\u001b[0m\n\u001b[0m\u001b[1;32m      5\u001b[0m \u001b[0;31m#initiate the conversation\u001b[0m\u001b[0;34m\u001b[0m\u001b[0;34m\u001b[0m\u001b[0m\n\u001b[1;32m      6\u001b[0m \u001b[0;32mif\u001b[0m \u001b[0m__name__\u001b[0m \u001b[0;34m==\u001b[0m \u001b[0;34m\"__main__\"\u001b[0m\u001b[0;34m:\u001b[0m\u001b[0;34m\u001b[0m\u001b[0;34m\u001b[0m\u001b[0m\n",
            "\u001b[0;32m/usr/local/lib/python3.11/dist-packages/nltk/chat/util.py\u001b[0m in \u001b[0;36mconverse\u001b[0;34m(self, quit)\u001b[0m\n\u001b[1;32m    116\u001b[0m             \u001b[0muser_input\u001b[0m \u001b[0;34m=\u001b[0m \u001b[0mquit\u001b[0m\u001b[0;34m\u001b[0m\u001b[0;34m\u001b[0m\u001b[0m\n\u001b[1;32m    117\u001b[0m             \u001b[0;32mtry\u001b[0m\u001b[0;34m:\u001b[0m\u001b[0;34m\u001b[0m\u001b[0;34m\u001b[0m\u001b[0m\n\u001b[0;32m--> 118\u001b[0;31m                 \u001b[0muser_input\u001b[0m \u001b[0;34m=\u001b[0m \u001b[0minput\u001b[0m\u001b[0;34m(\u001b[0m\u001b[0;34m\">\"\u001b[0m\u001b[0;34m)\u001b[0m\u001b[0;34m\u001b[0m\u001b[0;34m\u001b[0m\u001b[0m\n\u001b[0m\u001b[1;32m    119\u001b[0m             \u001b[0;32mexcept\u001b[0m \u001b[0mEOFError\u001b[0m\u001b[0;34m:\u001b[0m\u001b[0;34m\u001b[0m\u001b[0;34m\u001b[0m\u001b[0m\n\u001b[1;32m    120\u001b[0m                 \u001b[0mprint\u001b[0m\u001b[0;34m(\u001b[0m\u001b[0muser_input\u001b[0m\u001b[0;34m)\u001b[0m\u001b[0;34m\u001b[0m\u001b[0;34m\u001b[0m\u001b[0m\n",
            "\u001b[0;32m/usr/local/lib/python3.11/dist-packages/ipykernel/kernelbase.py\u001b[0m in \u001b[0;36mraw_input\u001b[0;34m(self, prompt)\u001b[0m\n\u001b[1;32m   1175\u001b[0m                 \u001b[0;34m\"raw_input was called, but this frontend does not support input requests.\"\u001b[0m\u001b[0;34m\u001b[0m\u001b[0;34m\u001b[0m\u001b[0m\n\u001b[1;32m   1176\u001b[0m             )\n\u001b[0;32m-> 1177\u001b[0;31m         return self._input_request(\n\u001b[0m\u001b[1;32m   1178\u001b[0m             \u001b[0mstr\u001b[0m\u001b[0;34m(\u001b[0m\u001b[0mprompt\u001b[0m\u001b[0;34m)\u001b[0m\u001b[0;34m,\u001b[0m\u001b[0;34m\u001b[0m\u001b[0;34m\u001b[0m\u001b[0m\n\u001b[1;32m   1179\u001b[0m             \u001b[0mself\u001b[0m\u001b[0;34m.\u001b[0m\u001b[0m_parent_ident\u001b[0m\u001b[0;34m[\u001b[0m\u001b[0;34m\"shell\"\u001b[0m\u001b[0;34m]\u001b[0m\u001b[0;34m,\u001b[0m\u001b[0;34m\u001b[0m\u001b[0;34m\u001b[0m\u001b[0m\n",
            "\u001b[0;32m/usr/local/lib/python3.11/dist-packages/ipykernel/kernelbase.py\u001b[0m in \u001b[0;36m_input_request\u001b[0;34m(self, prompt, ident, parent, password)\u001b[0m\n\u001b[1;32m   1217\u001b[0m             \u001b[0;32mexcept\u001b[0m \u001b[0mKeyboardInterrupt\u001b[0m\u001b[0;34m:\u001b[0m\u001b[0;34m\u001b[0m\u001b[0;34m\u001b[0m\u001b[0m\n\u001b[1;32m   1218\u001b[0m                 \u001b[0;31m# re-raise KeyboardInterrupt, to truncate traceback\u001b[0m\u001b[0;34m\u001b[0m\u001b[0;34m\u001b[0m\u001b[0m\n\u001b[0;32m-> 1219\u001b[0;31m                 \u001b[0;32mraise\u001b[0m \u001b[0mKeyboardInterrupt\u001b[0m\u001b[0;34m(\u001b[0m\u001b[0;34m\"Interrupted by user\"\u001b[0m\u001b[0;34m)\u001b[0m \u001b[0;32mfrom\u001b[0m \u001b[0;32mNone\u001b[0m\u001b[0;34m\u001b[0m\u001b[0;34m\u001b[0m\u001b[0m\n\u001b[0m\u001b[1;32m   1220\u001b[0m             \u001b[0;32mexcept\u001b[0m \u001b[0mException\u001b[0m\u001b[0;34m:\u001b[0m\u001b[0;34m\u001b[0m\u001b[0;34m\u001b[0m\u001b[0m\n\u001b[1;32m   1221\u001b[0m                 \u001b[0mself\u001b[0m\u001b[0;34m.\u001b[0m\u001b[0mlog\u001b[0m\u001b[0;34m.\u001b[0m\u001b[0mwarning\u001b[0m\u001b[0;34m(\u001b[0m\u001b[0;34m\"Invalid Message:\"\u001b[0m\u001b[0;34m,\u001b[0m \u001b[0mexc_info\u001b[0m\u001b[0;34m=\u001b[0m\u001b[0;32mTrue\u001b[0m\u001b[0;34m)\u001b[0m\u001b[0;34m\u001b[0m\u001b[0;34m\u001b[0m\u001b[0m\n",
            "\u001b[0;31mKeyboardInterrupt\u001b[0m: Interrupted by user"
          ]
        }
      ],
      "source": [
        "def chatBot():\n",
        "    print(\"Hi! I will talk to you i am Rahul\")\n",
        "    chatBot = Chat(tech_support_responses, reflections)\n",
        "    chatBot.converse()\n",
        "#initiate the conversation\n",
        "if __name__ == \"__main__\":\n",
        "    chatBot()"
      ]
    },
    {
      "cell_type": "code",
      "execution_count": 10,
      "id": "DiKmE9oFuFbC",
      "metadata": {
        "id": "DiKmE9oFuFbC",
        "colab": {
          "base_uri": "https://localhost:8080/"
        },
        "outputId": "164af0ca-f08b-44a5-a6b0-b0d1ff167d2a"
      },
      "outputs": [
        {
          "output_type": "stream",
          "name": "stdout",
          "text": [
            "chmod: cannot access 'ipython-input-3-90f696214cae.py': No such file or directory\n",
            "/bin/bash: line 1: ./ipython-input-3-90f696214cae.py: No such file or directory\n"
          ]
        }
      ],
      "source": [
        "!chmod +x ipython-input-3-90f696214cae.py # Make the script executable\n",
        "!./ipython-input-3-90f696214cae.py # Execute the script"
      ]
    },
    {
      "cell_type": "code",
      "execution_count": 11,
      "id": "JCAFJh2dTaYM",
      "metadata": {
        "colab": {
          "base_uri": "https://localhost:8080/"
        },
        "id": "JCAFJh2dTaYM",
        "outputId": "1b016e2d-7937-46ac-998d-c7004dfce66b"
      },
      "outputs": [
        {
          "output_type": "stream",
          "name": "stdout",
          "text": [
            "Collecting tk\n",
            "  Downloading tk-0.1.0-py3-none-any.whl.metadata (693 bytes)\n",
            "Downloading tk-0.1.0-py3-none-any.whl (3.9 kB)\n",
            "Installing collected packages: tk\n",
            "Successfully installed tk-0.1.0\n"
          ]
        }
      ],
      "source": [
        "!pip install tk"
      ]
    },
    {
      "cell_type": "code",
      "execution_count": 12,
      "id": "cf1c478f",
      "metadata": {
        "id": "cf1c478f"
      },
      "outputs": [],
      "source": [
        "# Create a chatbot\n",
        "chatbot = Chat(tech_support_responses, reflections)\n",
        "\n",
        "# Function to handle sending a message and getting a response\n",
        "def send_message():\n",
        "    message = user_input.get()\n",
        "    user_input.delete(0, tk.END)\n",
        "    response = chatbot.respond(message)\n",
        "    chat_history.config(state=tk.NORMAL)\n",
        "    chat_history.insert(tk.END, \"You: \" + message + \"\\n\", \"user\")\n",
        "    chat_history.insert(tk.END, \"Bot: \" + response + \"\\n\", \"bot\")\n",
        "    chat_history.config(state=tk.DISABLED)\n",
        "    chat_history.see(tk.END)\n",
        "\n",
        "\n",
        "# Function to create and show the GUI (if a display is available)\n",
        "def create_gui():\n",
        "    try:\n",
        "        # Create the main window\n",
        "        root = tk.Tk()\n",
        "        root.title(\"ITHub Support Chatbot\")\n",
        "\n",
        "        # Create widgets\n",
        "        chat_history = scrolledtext.ScrolledText(root, wrap=tk.WORD)\n",
        "        user_input = tk.Entry(root)\n",
        "        send_button = tk.Button(root, text=\"Send\", command=send_message)\n",
        "\n",
        "        # Configure chat history\n",
        "        chat_history.config(state=tk.DISABLED)\n",
        "        chat_history.tag_config(\"user\", foreground=\"blue\")\n",
        "        chat_history.tag_config(\"bot\", foreground=\"red\")\n",
        "\n",
        "        # Place widgets on the grid\n",
        "        chat_history.grid(row=0, column=0, columnspan=2, padx=5, pady=5)\n",
        "        user_input.grid(row=1, column=0, padx=5, pady=5, sticky=\"ew\")\n",
        "        send_button.grid(row=1, column=1, padx=5, pady=5, sticky=\"e\")\n",
        "\n",
        "        # Start the main loop\n",
        "        root.mainloop()\n",
        "    except tk.TclError as e:\n",
        "        if \"no display name and no $DISPLAY environment variable\" in str(e):\n",
        "            print(\"GUI cannot be displayed in this environment. Continuing without GUI.\")\n",
        "        else:\n",
        "            raise e  # Re-raise other TclErrors\n",
        "\n",
        "# Check if a display is available and run the GUI if possible"
      ]
    },
    {
      "cell_type": "markdown",
      "id": "a8bf8046",
      "metadata": {
        "id": "a8bf8046"
      },
      "source": [
        "### More Dynamic with selection"
      ]
    },
    {
      "cell_type": "code",
      "execution_count": 15,
      "id": "380be91e",
      "metadata": {
        "colab": {
          "base_uri": "https://localhost:8080/"
        },
        "id": "380be91e",
        "outputId": "57be2e7c-e07f-4b45-fb84-e01a623a6662"
      },
      "outputs": [
        {
          "output_type": "stream",
          "name": "stdout",
          "text": [
            "GUI cannot be displayed in this environment. Continuing without GUI.\n"
          ]
        }
      ],
      "source": [
        "import tkinter as tk\n",
        "from tkinter import scrolledtext\n",
        "from nltk.chat.util import Chat, reflections\n",
        "import time\n",
        "import os\n",
        "\n",
        "## Tech support responses\n",
        "tech_support_responses = [\n",
        "   (r\"Hello\", [\"Hi, How can i support you?\"]),\n",
        "    (r\"my PC not turning ON\", [\"Have you checked if it's plugged in?\"]),\n",
        "     (r\"Yes\", [\"restart and connet to internet\"]),\n",
        "    (r\"No\", [\"Please explain in detail\"]),\n",
        "    (r\"I can't connect to the internet\", [\"Have you tried restarting your router?\"]),\n",
        "    (r\"my PC is running slow\", [\"Try clearing your browser cache\"]),\n",
        "     (r\"OK\", [\"It worked?\"]),\n",
        "    (r\"how do I reset my password\\?\", [\"You can reset your password by visiting our website and following the instructions\"])\n",
        "    ,\n",
        "       (r\".*\", [\"Sorry, I cannot answer this.\"]),\n",
        "       (r\" Thanks\", [\"Bye! hope your issue is solved\" ])\n",
        "]\n",
        "# Responses for the counselling assistant\n",
        "counselling_responses = [\n",
        "    (r\"Hello\", [\"Hi, How are you feeling today?\"]),\n",
        "    (r\"I feel (.*)\", [\"Why do you feel {0}?\", \"I'm sorry to hear that. Can you tell me more about why you feel {0}?\"]),\n",
        "    (r\"(.*) (depressed|sad|unhappy|lonely|dying)\", [\"I'm here to listen. What's been bothering you?\", \"It's okay to feel down sometimes. What's been on your mind?\"]),\n",
        "    (r\"I need someone to talk to\", [\"I'm here to listen. You can share anything with me\"]),\n",
        "    (r\".*\", [\"Sorry, I cannot help you in this\"]),\n",
        "    (r\"Thanks and Bye\",\n",
        "        [\"Bye! hope your issue is solved\" ]) ,\n",
        "]\n",
        "\n",
        "# Create chatbots\n",
        "tech_support_chatbot = Chat(tech_support_responses, reflections)\n",
        "counselling_chatbot = Chat(counselling_responses, reflections)\n",
        "\n",
        "# Function to handle sending a message and getting a response\n",
        "def send_message():\n",
        "    message = user_input.get()\n",
        "    user_input.delete(0, tk.END)\n",
        "    chat_history.config(state=tk.NORMAL)\n",
        "    chat_history.insert(tk.END, \"You: \" + message + \"\\n\", \"user\")\n",
        "    chat_history.config(state=tk.DISABLED)\n",
        "    chat_history.see(tk.END)\n",
        "\n",
        "    # Show typing indicator\n",
        "    chat_history.config(state=tk.NORMAL)\n",
        "    chat_history.insert(tk.END, \"Bot is typing...\", \"bot_typing\")\n",
        "    chat_history.see(tk.END)\n",
        "    chat_history.config(state=tk.DISABLED)\n",
        "    root.update_idletasks()  # Force GUI update to show the typing indicator\n",
        "\n",
        "    # Simulate bot response delay\n",
        "    time.sleep(1)\n",
        "\n",
        "    # Get bot response\n",
        "    if chat_mode.get() == \"Tech Support\":\n",
        "        response = tech_support_chatbot.respond(message)\n",
        "    else:\n",
        "        response = counselling_chatbot.respond(message)\n",
        "\n",
        "    # Remove typing indicator and display bot response\n",
        "    chat_history.config(state=tk.NORMAL)\n",
        "    chat_history.delete(\"bot_typing.first\", \"bot_typing.last\")  # Remove typing indicator\n",
        "    chat_history.insert(tk.END, \"Bot: \" + response + \"\\n\", \"bot\")\n",
        "    chat_history.config(state=tk.DISABLED)\n",
        "    chat_history.see(tk.END)\n",
        "\n",
        "# Create the main window\n",
        "root = None\n",
        "if \"DISPLAY\" not in os.environ:\n",
        "    # Attempt to automatically find an available display\n",
        "\n",
        "    try:\n",
        "        import matplotlib  # Import matplotlib for GUI backend switching\n",
        "        matplotlib.use('Agg')  # or 'Agg' for non-interactive backends\n",
        "    except ImportError:\n",
        "        print(\"matplotlib not found, GUI might not be displayed.\")\n",
        "    print(\"GUI cannot be displayed in this environment. Continuing without GUI.\")\n",
        "else:  # If DISPLAY is set, proceed with GUI creation\n",
        "\n",
        "    root = tk.Tk()\n",
        "    root.title(\"Chatbot Counselling & Tech Support\")\n",
        "\n",
        "    # Create widgets\n",
        "    chat_history = scrolledtext.ScrolledText(root, wrap=tk.WORD)\n",
        "    user_input = tk.Entry(root)\n",
        "    send_button = tk.Button(root, text=\"Send\", command=send_message)\n",
        "    chat_mode = tk.StringVar(value=\"Tech Support\")\n",
        "    mode_selector = tk.Radiobutton(root, text=\"Tech Support\", variable=chat_mode, value=\"Tech Support\")\n",
        "    mode_selector2 = tk.Radiobutton(root, text=\"Counselling\", variable=chat_mode, value=\"Counselling\")\n",
        "\n",
        "    # Configure chat history\n",
        "    chat_history.config(state=tk.DISABLED)\n",
        "    chat_history.tag_config(\"user\", foreground=\"blue\")\n",
        "    chat_history.tag_config(\"bot\", foreground=\"red\")\n",
        "\n",
        "    # Place widgets on the grid\n",
        "    chat_history.grid(row=0, column=0, columnspan=2, padx=5, pady=5)\n",
        "    user_input.grid(row=1, column=0, padx=5, pady=5, sticky=\"ew\")\n",
        "    send_button.grid(row=1, column=1, padx=5, pady=5, sticky=\"e\")\n",
        "    mode_selector.grid(row=2, column=0, padx=5, pady=5, sticky=\"w\")\n",
        "    mode_selector2.grid(row=2, column=1, padx=5, pady=5, sticky=\"w\")\n",
        "\n",
        "    # Start the main loop\n",
        "    root.mainloop()\n",
        "\n"
      ]
    },
    {
      "cell_type": "code",
      "execution_count": null,
      "id": "B2Yb1gpDlB34",
      "metadata": {
        "colab": {
          "base_uri": "https://localhost:8080/"
        },
        "id": "B2Yb1gpDlB34",
        "outputId": "439cbbf0-fe3d-499a-b0b2-8355c067b33d"
      },
      "outputs": [
        {
          "output_type": "stream",
          "name": "stdout",
          "text": [
            "GUI cannot be displayed in this environment. Continuing without GUI.\n",
            "You: hi\n",
            "Bot: Sorry, I cannot answer this.\n",
            "You: hello\n",
            "Bot: Hi, How can i support you?\n"
          ]
        }
      ],
      "source": [
        "import tkinter as tk\n",
        "from tkinter import scrolledtext\n",
        "from nltk.chat.util import Chat, reflections\n",
        "import time\n",
        "import os\n",
        "\n",
        "## Tech support responses\n",
        "# ... (rest of your code) ...\n",
        "## Tech support responses\n",
        "tech_support_responses = [\n",
        "   (r\"Hello\", [\"Hi, How can i support you?\"]),\n",
        "    (r\"my PC not turning ON\", [\"Have you checked if it's plugged in?\"]),\n",
        "     (r\"Yes\", [\"restart and connet to internet\"]),\n",
        "    (r\"No\", [\"Please explain in detail\"]),\n",
        "    (r\"I can't connect to the internet\", [\"Have you tried restarting your router?\"]),\n",
        "    (r\"my PC is running slow\", [\"Try clearing your browser cache\"]),\n",
        "     (r\"OK\", [\"It worked?\"]),\n",
        "    (r\"how do I reset my password\\?\", [\"You can reset your password by visiting our website and following the instructions\"])\n",
        "    ,\n",
        "       (r\".*\", [\"Sorry, I cannot answer this.\"]),\n",
        "       (r\" Thanks\", [\"Bye! hope your issue is solved\" ])\n",
        "]\n",
        "# Responses for the counselling assistant\n",
        "counselling_responses = [\n",
        "    (r\"Hello\", [\"Hi, How are you feeling today?\"]),\n",
        "    (r\"I feel (.*)\", [\"Why do you feel {0}?\", \"I'm sorry to hear that. Can you tell me more about why you feel {0}?\"]),\n",
        "    (r\"(.*) (depressed|sad|unhappy|lonely|dying)\", [\"I'm here to listen. What's been bothering you?\", \"It's okay to feel down sometimes. What's been on your mind?\"]),\n",
        "    (r\"I need someone to talk to\", [\"I'm here to listen. You can share anything with me\"]),\n",
        "    (r\".*\", [\"Sorry, I cannot help you in this\"]),\n",
        "    (r\"Thanks and Bye\",\n",
        "        [\"Bye! hope your issue is solved\" ]) ,\n",
        "]\n",
        "\n",
        "tech_support_chatbot = Chat(tech_support_responses, reflections)\n",
        "counselling_chatbot = Chat(counselling_responses, reflections)\n",
        "\n",
        "# Function to handle sending a message and getting a response (modified)\n",
        "def send_message(chat_history, user_input):\n",
        "    message = user_input.get()\n",
        "    user_input.delete(0, tk.END)\n",
        "\n",
        "    if chat_mode.get() == \"Tech Support\":\n",
        "        response = tech_support_chatbot.respond(message)\n",
        "    else:\n",
        "        response = counselling_chatbot.respond(message)\n",
        "\n",
        "    # Update chat history\n",
        "    chat_history.config(state=tk.NORMAL)\n",
        "    chat_history.insert(tk.END, \"You: \" + message + \"\\n\", \"user\")\n",
        "    chat_history.insert(tk.END, \"Bot: \" + response + \"\\n\", \"bot\")\n",
        "    chat_history.config(state=tk.DISABLED)\n",
        "    chat_history.see(tk.END)\n",
        "\n",
        "\n",
        "# Create the main window (modified)\n",
        "def create_gui():\n",
        "    global chat_history, user_input, chat_mode, root\n",
        "    root = tk.Tk()\n",
        "    root.title(\"Chatbot Counselling & Tech Support\")\n",
        "\n",
        "    # Create widgets\n",
        "    chat_history = scrolledtext.ScrolledText(root, wrap=tk.WORD)\n",
        "    user_input = tk.Entry(root)\n",
        "    send_button = tk.Button(root, text=\"Send\", command=lambda: send_message(chat_history, user_input))\n",
        "    chat_mode = tk.StringVar(value=\"Tech Support\")\n",
        "    mode_selector = tk.Radiobutton(root, text=\"Tech Support\", variable=chat_mode, value=\"Tech Support\")\n",
        "    mode_selector2 = tk.Radiobutton(root, text=\"Counselling\", variable=chat_mode, value=\"Counselling\")\n",
        "\n",
        "    # Configure chat history\n",
        "    chat_history.config(state=tk.DISABLED)\n",
        "    chat_history.tag_config(\"user\", foreground=\"blue\")\n",
        "    chat_history.tag_config(\"bot\", foreground=\"red\")\n",
        "\n",
        "    # Place widgets on the grid\n",
        "    chat_history.grid(row=0, column=0, columnspan=2, padx=5, pady=5)\n",
        "    user_input.grid(row=1, column=0, padx=5, pady=5, sticky=\"ew\")\n",
        "    send_button.grid(row=1, column=1, padx=5, pady=5, sticky=\"e\")\n",
        "    mode_selector.grid(row=2, column=0, padx=5, pady=5, sticky=\"w\")\n",
        "    mode_selector2.grid(row=2, column=1, padx=5, pady=5, sticky=\"w\")\n",
        "\n",
        "    # Start the main loop\n",
        "    root.mainloop()\n",
        "\n",
        "\n",
        "if \"DISPLAY\" in os.environ:\n",
        "    create_gui()\n",
        "else:\n",
        "    print(\"GUI cannot be displayed in this environment. Continuing without GUI.\")\n",
        "    # Here, you can implement the non-GUI interaction logic\n",
        "    # For example, you can use a simple text-based interaction loop:\n",
        "    chat_mode = \"Tech Support\"  # Default mode\n",
        "    while True:\n",
        "        message = input(\"You: \")\n",
        "        if message.lower() == \"quit\":\n",
        "            break\n",
        "\n",
        "        if chat_mode == \"Tech Support\":\n",
        "            response = tech_support_chatbot.respond(message)\n",
        "        else:\n",
        "            response = counselling_chatbot.respond(message)\n",
        "\n",
        "        print(\"Bot:\", response)"
      ]
    },
    {
      "cell_type": "code",
      "execution_count": null,
      "id": "a7462617",
      "metadata": {
        "id": "a7462617"
      },
      "outputs": [],
      "source": []
    }
  ],
  "metadata": {
    "colab": {
      "provenance": []
    },
    "kernelspec": {
      "display_name": "Python 3 (ipykernel)",
      "language": "python",
      "name": "python3"
    },
    "language_info": {
      "codemirror_mode": {
        "name": "ipython",
        "version": 3
      },
      "file_extension": ".py",
      "mimetype": "text/x-python",
      "name": "python",
      "nbconvert_exporter": "python",
      "pygments_lexer": "ipython3",
      "version": "3.9.12"
    }
  },
  "nbformat": 4,
  "nbformat_minor": 5
}