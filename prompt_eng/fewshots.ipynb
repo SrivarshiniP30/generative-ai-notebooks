{
 "cells": [
  {
   "cell_type": "code",
   "execution_count": null,
   "id": "eaec07d5",
   "metadata": {},
   "outputs": [],
   "source": [
    "from openai import OpenAI\n",
    "import os\n",
    "#inferance server\n",
    "myclient= OpenAI(api_key = os.getenv(\"OPENAI_API_KEY\"))"
   ]
  },
  {
   "cell_type": "code",
   "execution_count": 3,
   "id": "5ab226b5",
   "metadata": {},
   "outputs": [],
   "source": [
    "def get_completion(prompt):\n",
    "    messages= [{\"role\":\"user\",\"content\":prompt}]\n",
    "    response= myclient.chat.completions.create(\n",
    "        model=\"gpt-4.1-nano\",\n",
    "        messages=messages,\n",
    "        temperature=0\n",
    "    )\n",
    "    return response.choices[0].message.content"
   ]
  },
  {
   "cell_type": "code",
   "execution_count": 4,
   "id": "2c694da8",
   "metadata": {},
   "outputs": [
    {
     "name": "stdout",
     "output_type": "stream",
     "text": [
      "Category: Work\n"
     ]
    }
   ],
   "source": [
    "prompt=f\"\"\"Example 1:\n",
    "Email: \"Reminder: Project kickoff meeting is scheduled for Monday at 10 AM.\"\n",
    "Category: Work\n",
    "\n",
    "Example 2:\n",
    "Email: \"Hey! Want to grab dinner tomorrow night?\"\n",
    "Category: Personal\n",
    "\n",
    "Example 3:\n",
    "Email: \"You've won a free iPhone! Click here to claim your prize.\"\n",
    "Category: Spam\n",
    "\n",
    "Now classify this email:\n",
    "Email: \"Can you send over the updated deck before our 3 PM call?\"\n",
    "Category:\n",
    "\n",
    "\"\"\"\n",
    "\n",
    "response= get_completion(prompt)\n",
    "print(response)"
   ]
  }
 ],
 "metadata": {
  "kernelspec": {
   "display_name": "genenv",
   "language": "python",
   "name": "python3"
  },
  "language_info": {
   "codemirror_mode": {
    "name": "ipython",
    "version": 3
   },
   "file_extension": ".py",
   "mimetype": "text/x-python",
   "name": "python",
   "nbconvert_exporter": "python",
   "pygments_lexer": "ipython3",
   "version": "3.12.6"
  }
 },
 "nbformat": 4,
 "nbformat_minor": 5
}
